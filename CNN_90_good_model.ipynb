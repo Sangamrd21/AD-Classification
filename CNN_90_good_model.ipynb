{
  "nbformat": 4,
  "nbformat_minor": 0,
  "metadata": {
    "colab": {
      "name": "CNN_AD.ipynb",
      "provenance": [],
      "collapsed_sections": []
    },
    "kernelspec": {
      "name": "python3",
      "display_name": "Python 3"
    },
    "language_info": {
      "name": "python"
    },
    "accelerator": "GPU"
  },
  "cells": [
    {
      "cell_type": "code",
      "metadata": {
        "colab": {
          "base_uri": "https://localhost:8080/"
        },
        "id": "x0UInZkzqmvq",
        "outputId": "29bd25f2-8bd0-4a85-e034-a67cdfeb5a84"
      },
      "source": [
        "from google.colab import drive\n",
        "drive.mount('/content/gdrive')"
      ],
      "execution_count": 1,
      "outputs": [
        {
          "output_type": "stream",
          "text": [
            "Mounted at /content/gdrive\n"
          ],
          "name": "stdout"
        }
      ]
    },
    {
      "cell_type": "code",
      "metadata": {
        "id": "bTJQiaKZruB-"
      },
      "source": [
        "!unzip -q \"/content/gdrive/MyDrive/Final_dataset.zip\""
      ],
      "execution_count": 2,
      "outputs": []
    },
    {
      "cell_type": "code",
      "metadata": {
        "colab": {
          "base_uri": "https://localhost:8080/"
        },
        "id": "Vp_WUQV7kYnU",
        "outputId": "2b55fb3b-f9dd-451b-8aa6-1239bbe281ab"
      },
      "source": [
        "!pip install tensorflow_addons\n",
        "!pip install keras-tuner"
      ],
      "execution_count": 1,
      "outputs": [
        {
          "output_type": "stream",
          "text": [
            "Requirement already satisfied: tensorflow_addons in /usr/local/lib/python3.7/dist-packages (0.13.0)\n",
            "Requirement already satisfied: typeguard>=2.7 in /usr/local/lib/python3.7/dist-packages (from tensorflow_addons) (2.7.1)\n",
            "Requirement already satisfied: keras-tuner in /usr/local/lib/python3.7/dist-packages (1.0.2)\n",
            "Requirement already satisfied: tqdm in /usr/local/lib/python3.7/dist-packages (from keras-tuner) (4.41.1)\n",
            "Requirement already satisfied: tabulate in /usr/local/lib/python3.7/dist-packages (from keras-tuner) (0.8.9)\n",
            "Requirement already satisfied: scipy in /usr/local/lib/python3.7/dist-packages (from keras-tuner) (1.4.1)\n",
            "Requirement already satisfied: scikit-learn in /usr/local/lib/python3.7/dist-packages (from keras-tuner) (0.22.2.post1)\n",
            "Requirement already satisfied: numpy in /usr/local/lib/python3.7/dist-packages (from keras-tuner) (1.19.5)\n",
            "Requirement already satisfied: terminaltables in /usr/local/lib/python3.7/dist-packages (from keras-tuner) (3.1.0)\n",
            "Requirement already satisfied: packaging in /usr/local/lib/python3.7/dist-packages (from keras-tuner) (20.9)\n",
            "Requirement already satisfied: future in /usr/local/lib/python3.7/dist-packages (from keras-tuner) (0.16.0)\n",
            "Requirement already satisfied: colorama in /usr/local/lib/python3.7/dist-packages (from keras-tuner) (0.4.4)\n",
            "Requirement already satisfied: requests in /usr/local/lib/python3.7/dist-packages (from keras-tuner) (2.23.0)\n",
            "Requirement already satisfied: joblib>=0.11 in /usr/local/lib/python3.7/dist-packages (from scikit-learn->keras-tuner) (1.0.1)\n",
            "Requirement already satisfied: pyparsing>=2.0.2 in /usr/local/lib/python3.7/dist-packages (from packaging->keras-tuner) (2.4.7)\n",
            "Requirement already satisfied: chardet<4,>=3.0.2 in /usr/local/lib/python3.7/dist-packages (from requests->keras-tuner) (3.0.4)\n",
            "Requirement already satisfied: urllib3!=1.25.0,!=1.25.1,<1.26,>=1.21.1 in /usr/local/lib/python3.7/dist-packages (from requests->keras-tuner) (1.24.3)\n",
            "Requirement already satisfied: idna<3,>=2.5 in /usr/local/lib/python3.7/dist-packages (from requests->keras-tuner) (2.10)\n",
            "Requirement already satisfied: certifi>=2017.4.17 in /usr/local/lib/python3.7/dist-packages (from requests->keras-tuner) (2020.12.5)\n"
          ],
          "name": "stdout"
        }
      ]
    },
    {
      "cell_type": "code",
      "metadata": {
        "id": "8YZYM2K2foJB",
        "colab": {
          "base_uri": "https://localhost:8080/"
        },
        "outputId": "e736eadc-6abb-4d07-970e-9a356f36aaf7"
      },
      "source": [
        "import numpy as np\n",
        "import pandas as pd\n",
        "import seaborn as sns\n",
        "import tensorflow as tf\n",
        "import matplotlib.pyplot as plt\n",
        "import os \n",
        "from distutils.dir_util import copy_tree, remove_tree\n",
        "from PIL import Image\n",
        "from random import randint\n",
        "from imblearn.over_sampling import SMOTE\n",
        "from sklearn.model_selection import train_test_split\n",
        "from sklearn.metrics import matthews_corrcoef as MCC\n",
        "from sklearn.metrics import balanced_accuracy_score as BAS\n",
        "from sklearn.metrics import classification_report, confusion_matrix\n",
        "import tensorflow_addons as tfa\n",
        "from keras.utils.vis_utils import plot_model\n",
        "from tensorflow.keras import Sequential, Input\n",
        "from tensorflow.keras.layers import Dense, Dropout\n",
        "from tensorflow.keras.layers import Conv2D, Flatten\n",
        "from tensorflow.keras.callbacks import EarlyStopping\n",
        "from tensorflow.keras.applications.inception_v3 import InceptionV3\n",
        "from tensorflow.keras.preprocessing.image import ImageDataGenerator as IDG\n",
        "from tensorflow.keras.layers import SeparableConv2D, BatchNormalization, MaxPool2D"
      ],
      "execution_count": 2,
      "outputs": [
        {
          "output_type": "stream",
          "text": [
            "/usr/local/lib/python3.7/dist-packages/sklearn/externals/six.py:31: FutureWarning: The module is deprecated in version 0.21 and will be removed in version 0.23 since we've dropped support for Python 2.7. Please rely on the official version of six (https://pypi.org/project/six/).\n",
            "  \"(https://pypi.org/project/six/).\", FutureWarning)\n",
            "/usr/local/lib/python3.7/dist-packages/sklearn/utils/deprecation.py:144: FutureWarning: The sklearn.neighbors.base module is  deprecated in version 0.22 and will be removed in version 0.24. The corresponding classes / functions should instead be imported from sklearn.neighbors. Anything that cannot be imported from sklearn.neighbors is now part of the private API.\n",
            "  warnings.warn(message, FutureWarning)\n"
          ],
          "name": "stderr"
        }
      ]
    },
    {
      "cell_type": "code",
      "metadata": {
        "id": "EscUjukIsPMn"
      },
      "source": [
        "WORK_DIR = '/content/Final_dataset/'\n",
        "\n",
        "CLASSES = ['AD', 'CN', 'MCI']\n",
        "\n",
        "IMAGE_SIZE = [256, 170]\n",
        "DIM = (256, 170)"
      ],
      "execution_count": 3,
      "outputs": []
    },
    {
      "cell_type": "code",
      "metadata": {
        "colab": {
          "base_uri": "https://localhost:8080/"
        },
        "id": "FYLnYNXZtLZb",
        "outputId": "e130108e-f5c4-409a-fc6e-2162b1ab143c"
      },
      "source": [
        "#Performing Image Augmentation to have more data samples\n",
        "\n",
        "DATA_FORMAT = \"channels_last\"\n",
        "\n",
        "work_dr = IDG(rescale = 1./255, data_format=DATA_FORMAT)\n",
        "\n",
        "train_data_gen = work_dr.flow_from_directory(directory=WORK_DIR, target_size=DIM, batch_size=9000, shuffle=False)"
      ],
      "execution_count": 4,
      "outputs": [
        {
          "output_type": "stream",
          "text": [
            "Found 8379 images belonging to 3 classes.\n"
          ],
          "name": "stdout"
        }
      ]
    },
    {
      "cell_type": "code",
      "metadata": {
        "id": "vixVGGfRtUKg"
      },
      "source": [
        "#Retrieving the data from the ImageDataGenerator iterator\n",
        "\n",
        "train_data, train_labels = train_data_gen.next()\n"
      ],
      "execution_count": 5,
      "outputs": []
    },
    {
      "cell_type": "code",
      "metadata": {
        "colab": {
          "base_uri": "https://localhost:8080/"
        },
        "id": "CaIjeZ-ytYWC",
        "outputId": "36be4f91-0ff3-4cfa-80da-b60b80c2e67d"
      },
      "source": [
        "#Getting to know the dimensions of our dataset\n",
        "\n",
        "print(train_data.shape, train_labels.shape)"
      ],
      "execution_count": 6,
      "outputs": [
        {
          "output_type": "stream",
          "text": [
            "(8379, 256, 170, 3) (8379, 3)\n"
          ],
          "name": "stdout"
        }
      ]
    },
    {
      "cell_type": "code",
      "metadata": {
        "id": "3OEDesyztePy",
        "colab": {
          "base_uri": "https://localhost:8080/"
        },
        "outputId": "acb3c4da-d1da-4654-c2cc-f684cd30afa1"
      },
      "source": [
        "#Splitting the data into train, test, and validation sets\n",
        "\n",
        "train_data, test_data, train_labels, test_labels = train_test_split(train_data, train_labels, test_size = 0.2, random_state=42)\n",
        "train_data, val_data, train_labels, val_labels = train_test_split(train_data, train_labels, test_size = 0.2, random_state=42)\n",
        "print(train_labels.shape, test_labels.shape, val_labels.shape)"
      ],
      "execution_count": 7,
      "outputs": [
        {
          "output_type": "stream",
          "text": [
            "(5362, 3) (1676, 3) (1341, 3)\n"
          ],
          "name": "stdout"
        }
      ]
    },
    {
      "cell_type": "code",
      "metadata": {
        "id": "Pn5in53itsAe"
      },
      "source": [
        "def conv_block(filters, act='relu'):\n",
        "    \"\"\"Defining a Convolutional NN block for a Sequential CNN model. \"\"\"\n",
        "    \n",
        "    block = Sequential()\n",
        "    block.add(Conv2D(filters, 3, activation=act, padding='same'))\n",
        "    block.add(Conv2D(filters, 3, activation=act, padding='same'))\n",
        "    block.add(BatchNormalization())\n",
        "    block.add(MaxPool2D())\n",
        "    \n",
        "    return block"
      ],
      "execution_count": 8,
      "outputs": []
    },
    {
      "cell_type": "code",
      "metadata": {
        "id": "R6Sd6mdPt091"
      },
      "source": [
        "def dense_block(units, dropout_rate, act='relu'):\n",
        "    \"\"\"Defining a Dense NN block for a Sequential CNN model. \"\"\"\n",
        "    \n",
        "    block = Sequential()\n",
        "    block.add(Dense(units, activation=act))\n",
        "    block.add(BatchNormalization())\n",
        "    #block.add(Dropout(dropout_rate))\n",
        "    \n",
        "    return block"
      ],
      "execution_count": 9,
      "outputs": []
    },
    {
      "cell_type": "code",
      "metadata": {
        "id": "RQ8GLMSAt-d4"
      },
      "source": [
        "def construct_model(act='relu'):\n",
        "    \"\"\"Constructing a Sequential CNN architecture for performing the classification task. \"\"\"\n",
        "    \n",
        "    model = Sequential([\n",
        "        Input(shape=(256, 170, 3)),\n",
        "        Conv2D(16, 3, activation=act, padding='same'),\n",
        "        Conv2D(16, 3, activation=act, padding='same'),\n",
        "        MaxPool2D(),\n",
        "        conv_block(32),\n",
        "        conv_block(64),\n",
        "        conv_block(128),\n",
        "        Dropout(0.3),\n",
        "        #conv_block(256),\n",
        "        #Dropout(0.2),\n",
        "        Flatten(),\n",
        "        dense_block(512, 0.7),\n",
        "        dense_block(128, 0.7),\n",
        "        dense_block(64, 0.7),\n",
        "        Dense(3, activation='softmax')        \n",
        "    ], name = \"cnn_model\")\n",
        "\n",
        "    return model"
      ],
      "execution_count": 10,
      "outputs": []
    },
    {
      "cell_type": "code",
      "metadata": {
        "id": "z9szbOFbuBSB"
      },
      "source": [
        "#Defining a custom callback function to stop training our model when accuracy goes above 99%\n",
        "\n",
        "class MyCallback(tf.keras.callbacks.Callback):\n",
        "    def on_epoch_end(self, epoch, logs={}):\n",
        "        if logs.get('val_acc') > 0.99:\n",
        "            print(\"\\nReached accuracy threshold! Terminating training.\")\n",
        "            self.model.stop_training = True\n",
        "            \n",
        "my_callback = MyCallback()\n",
        "\n",
        "#EarlyStopping callback to make sure model is always learning\n",
        "early_stopping = EarlyStopping(monitor='val_loss', patience=2)"
      ],
      "execution_count": 11,
      "outputs": []
    },
    {
      "cell_type": "code",
      "metadata": {
        "id": "eH2_qWOBuEFo",
        "colab": {
          "base_uri": "https://localhost:8080/"
        },
        "outputId": "9ac54b13-87ac-4a45-9649-9eb99823d42a"
      },
      "source": [
        "#Defining other parameters for our CNN model\n",
        "\n",
        "model = construct_model()\n",
        "\n",
        "METRICS = [tf.keras.metrics.CategoricalAccuracy(name='acc'),\n",
        "           #tf.keras.metrics.AUC(name='auc'), \n",
        "           tfa.metrics.F1Score(num_classes=3)]\n",
        "\n",
        "CALLBACKS = [my_callback]\n",
        "    \n",
        "model.compile(optimizer='adam',\n",
        "              loss=tf.losses.CategoricalCrossentropy(),\n",
        "              metrics=METRICS)\n",
        "\n",
        "model.summary()"
      ],
      "execution_count": 12,
      "outputs": [
        {
          "output_type": "stream",
          "text": [
            "Model: \"cnn_model\"\n",
            "_________________________________________________________________\n",
            "Layer (type)                 Output Shape              Param #   \n",
            "=================================================================\n",
            "conv2d (Conv2D)              (None, 256, 170, 16)      448       \n",
            "_________________________________________________________________\n",
            "conv2d_1 (Conv2D)            (None, 256, 170, 16)      2320      \n",
            "_________________________________________________________________\n",
            "max_pooling2d (MaxPooling2D) (None, 128, 85, 16)       0         \n",
            "_________________________________________________________________\n",
            "sequential (Sequential)      (None, 64, 42, 32)        14016     \n",
            "_________________________________________________________________\n",
            "sequential_1 (Sequential)    (None, 32, 21, 64)        55680     \n",
            "_________________________________________________________________\n",
            "sequential_2 (Sequential)    (None, 16, 10, 128)       221952    \n",
            "_________________________________________________________________\n",
            "dropout (Dropout)            (None, 16, 10, 128)       0         \n",
            "_________________________________________________________________\n",
            "flatten (Flatten)            (None, 20480)             0         \n",
            "_________________________________________________________________\n",
            "sequential_3 (Sequential)    (None, 512)               10488320  \n",
            "_________________________________________________________________\n",
            "sequential_4 (Sequential)    (None, 128)               66176     \n",
            "_________________________________________________________________\n",
            "sequential_5 (Sequential)    (None, 64)                8512      \n",
            "_________________________________________________________________\n",
            "dense_3 (Dense)              (None, 3)                 195       \n",
            "=================================================================\n",
            "Total params: 10,857,619\n",
            "Trainable params: 10,855,763\n",
            "Non-trainable params: 1,856\n",
            "_________________________________________________________________\n"
          ],
          "name": "stdout"
        }
      ]
    },
    {
      "cell_type": "code",
      "metadata": {
        "id": "jF6x9NKOuGuf",
        "colab": {
          "base_uri": "https://localhost:8080/"
        },
        "outputId": "dfc67734-75cf-4e2f-ad47-85e721441278"
      },
      "source": [
        "#Fit the training data to the model and validate it using the validation data\n",
        "EPOCHS = 80\n",
        "\n",
        "history = model.fit(train_data, train_labels, validation_data=(val_data, val_labels), callbacks=CALLBACKS, epochs=EPOCHS, batch_size=64)"
      ],
      "execution_count": 13,
      "outputs": [
        {
          "output_type": "stream",
          "text": [
            "Epoch 1/80\n",
            " 6/84 [=>............................] - ETA: 19s - loss: 1.5784 - acc: 0.3577 - f1_score: 0.3522WARNING:tensorflow:Callback method `on_train_batch_end` is slow compared to the batch time (batch time: 0.0946s vs `on_train_batch_end` time: 0.1291s). Check your callbacks.\n",
            "84/84 [==============================] - 35s 331ms/step - loss: 1.1851 - acc: 0.4654 - f1_score: 0.4643 - val_loss: 1.6297 - val_acc: 0.3296 - val_f1_score: 0.1653\n",
            "Epoch 2/80\n",
            "84/84 [==============================] - 23s 273ms/step - loss: 0.8142 - acc: 0.6212 - f1_score: 0.6215 - val_loss: 2.3579 - val_acc: 0.3296 - val_f1_score: 0.1653\n",
            "Epoch 3/80\n",
            "84/84 [==============================] - 23s 275ms/step - loss: 0.6328 - acc: 0.7423 - f1_score: 0.7421 - val_loss: 3.4076 - val_acc: 0.3430 - val_f1_score: 0.1703\n",
            "Epoch 4/80\n",
            "84/84 [==============================] - 23s 275ms/step - loss: 0.5231 - acc: 0.7857 - f1_score: 0.7860 - val_loss: 4.0571 - val_acc: 0.3900 - val_f1_score: 0.2625\n",
            "Epoch 5/80\n",
            "84/84 [==============================] - 23s 275ms/step - loss: 0.3820 - acc: 0.8518 - f1_score: 0.8520 - val_loss: 4.2503 - val_acc: 0.3445 - val_f1_score: 0.1738\n",
            "Epoch 6/80\n",
            "84/84 [==============================] - 23s 276ms/step - loss: 0.2617 - acc: 0.9056 - f1_score: 0.9054 - val_loss: 1.6343 - val_acc: 0.5347 - val_f1_score: 0.4486\n",
            "Epoch 7/80\n",
            "84/84 [==============================] - 23s 277ms/step - loss: 0.1643 - acc: 0.9480 - f1_score: 0.9481 - val_loss: 0.9573 - val_acc: 0.6592 - val_f1_score: 0.6212\n",
            "Epoch 8/80\n",
            "84/84 [==============================] - 23s 275ms/step - loss: 0.1311 - acc: 0.9617 - f1_score: 0.9615 - val_loss: 0.6715 - val_acc: 0.7584 - val_f1_score: 0.7495\n",
            "Epoch 9/80\n",
            "84/84 [==============================] - 23s 275ms/step - loss: 0.1084 - acc: 0.9631 - f1_score: 0.9631 - val_loss: 0.5483 - val_acc: 0.7994 - val_f1_score: 0.7903\n",
            "Epoch 10/80\n",
            "84/84 [==============================] - 23s 275ms/step - loss: 0.0824 - acc: 0.9741 - f1_score: 0.9740 - val_loss: 0.3942 - val_acc: 0.8777 - val_f1_score: 0.8773\n",
            "Epoch 11/80\n",
            "84/84 [==============================] - 23s 275ms/step - loss: 0.0661 - acc: 0.9806 - f1_score: 0.9805 - val_loss: 0.4515 - val_acc: 0.8516 - val_f1_score: 0.8530\n",
            "Epoch 12/80\n",
            "84/84 [==============================] - 23s 275ms/step - loss: 0.0593 - acc: 0.9836 - f1_score: 0.9836 - val_loss: 0.5647 - val_acc: 0.8166 - val_f1_score: 0.8151\n",
            "Epoch 13/80\n",
            "84/84 [==============================] - 23s 275ms/step - loss: 0.0549 - acc: 0.9829 - f1_score: 0.9829 - val_loss: 0.7546 - val_acc: 0.7852 - val_f1_score: 0.7790\n",
            "Epoch 14/80\n",
            "84/84 [==============================] - 23s 275ms/step - loss: 0.0622 - acc: 0.9789 - f1_score: 0.9789 - val_loss: 0.9781 - val_acc: 0.7114 - val_f1_score: 0.7079\n",
            "Epoch 15/80\n",
            "84/84 [==============================] - 23s 275ms/step - loss: 0.0446 - acc: 0.9846 - f1_score: 0.9846 - val_loss: 0.3448 - val_acc: 0.8904 - val_f1_score: 0.8901\n",
            "Epoch 16/80\n",
            "84/84 [==============================] - 23s 275ms/step - loss: 0.0382 - acc: 0.9886 - f1_score: 0.9886 - val_loss: 0.5506 - val_acc: 0.8262 - val_f1_score: 0.8274\n",
            "Epoch 17/80\n",
            "84/84 [==============================] - 23s 275ms/step - loss: 0.0395 - acc: 0.9889 - f1_score: 0.9889 - val_loss: 0.5651 - val_acc: 0.8322 - val_f1_score: 0.8310\n",
            "Epoch 18/80\n",
            "84/84 [==============================] - 23s 276ms/step - loss: 0.0544 - acc: 0.9793 - f1_score: 0.9792 - val_loss: 0.5575 - val_acc: 0.8538 - val_f1_score: 0.8536\n",
            "Epoch 19/80\n",
            "84/84 [==============================] - 23s 275ms/step - loss: 0.0770 - acc: 0.9755 - f1_score: 0.9754 - val_loss: 0.8551 - val_acc: 0.7681 - val_f1_score: 0.7665\n",
            "Epoch 20/80\n",
            "84/84 [==============================] - 23s 274ms/step - loss: 0.0540 - acc: 0.9774 - f1_score: 0.9774 - val_loss: 0.7453 - val_acc: 0.7755 - val_f1_score: 0.7764\n",
            "Epoch 21/80\n",
            "84/84 [==============================] - 23s 275ms/step - loss: 0.0708 - acc: 0.9754 - f1_score: 0.9753 - val_loss: 1.3520 - val_acc: 0.7144 - val_f1_score: 0.6866\n",
            "Epoch 22/80\n",
            "84/84 [==============================] - 23s 275ms/step - loss: 0.0406 - acc: 0.9865 - f1_score: 0.9865 - val_loss: 0.3578 - val_acc: 0.8941 - val_f1_score: 0.8947\n",
            "Epoch 23/80\n",
            "84/84 [==============================] - 23s 275ms/step - loss: 0.0342 - acc: 0.9895 - f1_score: 0.9895 - val_loss: 0.4169 - val_acc: 0.8934 - val_f1_score: 0.8934\n",
            "Epoch 24/80\n",
            "84/84 [==============================] - 23s 275ms/step - loss: 0.0317 - acc: 0.9903 - f1_score: 0.9903 - val_loss: 0.4689 - val_acc: 0.8568 - val_f1_score: 0.8586\n",
            "Epoch 25/80\n",
            "84/84 [==============================] - 23s 275ms/step - loss: 0.0198 - acc: 0.9938 - f1_score: 0.9938 - val_loss: 0.5685 - val_acc: 0.8561 - val_f1_score: 0.8580\n",
            "Epoch 26/80\n",
            "84/84 [==============================] - 23s 274ms/step - loss: 0.0231 - acc: 0.9928 - f1_score: 0.9929 - val_loss: 0.5689 - val_acc: 0.8464 - val_f1_score: 0.8456\n",
            "Epoch 27/80\n",
            "84/84 [==============================] - 23s 275ms/step - loss: 0.0249 - acc: 0.9904 - f1_score: 0.9904 - val_loss: 0.6568 - val_acc: 0.8397 - val_f1_score: 0.8412\n",
            "Epoch 28/80\n",
            "84/84 [==============================] - 23s 274ms/step - loss: 0.0173 - acc: 0.9945 - f1_score: 0.9945 - val_loss: 0.6355 - val_acc: 0.8419 - val_f1_score: 0.8445\n",
            "Epoch 29/80\n",
            "84/84 [==============================] - 23s 274ms/step - loss: 0.0222 - acc: 0.9921 - f1_score: 0.9921 - val_loss: 0.4992 - val_acc: 0.8665 - val_f1_score: 0.8677\n",
            "Epoch 30/80\n",
            "84/84 [==============================] - 23s 274ms/step - loss: 0.0535 - acc: 0.9807 - f1_score: 0.9808 - val_loss: 0.8066 - val_acc: 0.8001 - val_f1_score: 0.7981\n",
            "Epoch 31/80\n",
            "84/84 [==============================] - 23s 274ms/step - loss: 0.0519 - acc: 0.9820 - f1_score: 0.9820 - val_loss: 1.3558 - val_acc: 0.7047 - val_f1_score: 0.7005\n",
            "Epoch 32/80\n",
            "84/84 [==============================] - 23s 275ms/step - loss: 0.0649 - acc: 0.9781 - f1_score: 0.9781 - val_loss: 0.8706 - val_acc: 0.7800 - val_f1_score: 0.7749\n",
            "Epoch 33/80\n",
            "84/84 [==============================] - 23s 275ms/step - loss: 0.0805 - acc: 0.9707 - f1_score: 0.9707 - val_loss: 2.3743 - val_acc: 0.5511 - val_f1_score: 0.5264\n",
            "Epoch 34/80\n",
            "84/84 [==============================] - 23s 275ms/step - loss: 0.0905 - acc: 0.9669 - f1_score: 0.9669 - val_loss: 0.7820 - val_acc: 0.8046 - val_f1_score: 0.8077\n",
            "Epoch 35/80\n",
            "84/84 [==============================] - 23s 275ms/step - loss: 0.0433 - acc: 0.9881 - f1_score: 0.9881 - val_loss: 0.4742 - val_acc: 0.8717 - val_f1_score: 0.8726\n",
            "Epoch 36/80\n",
            "84/84 [==============================] - 23s 276ms/step - loss: 0.0157 - acc: 0.9959 - f1_score: 0.9959 - val_loss: 0.3933 - val_acc: 0.8941 - val_f1_score: 0.8943\n",
            "Epoch 37/80\n",
            "84/84 [==============================] - 23s 275ms/step - loss: 0.0107 - acc: 0.9969 - f1_score: 0.9969 - val_loss: 0.3781 - val_acc: 0.8911 - val_f1_score: 0.8920\n",
            "Epoch 38/80\n",
            "84/84 [==============================] - 23s 275ms/step - loss: 0.0133 - acc: 0.9960 - f1_score: 0.9960 - val_loss: 0.4254 - val_acc: 0.8889 - val_f1_score: 0.8899\n",
            "Epoch 39/80\n",
            "84/84 [==============================] - 23s 274ms/step - loss: 0.0122 - acc: 0.9969 - f1_score: 0.9969 - val_loss: 0.4069 - val_acc: 0.8926 - val_f1_score: 0.8928\n",
            "Epoch 40/80\n",
            "84/84 [==============================] - 23s 275ms/step - loss: 0.0081 - acc: 0.9983 - f1_score: 0.9983 - val_loss: 0.4302 - val_acc: 0.8911 - val_f1_score: 0.8924\n",
            "Epoch 41/80\n",
            "84/84 [==============================] - 23s 275ms/step - loss: 0.0081 - acc: 0.9972 - f1_score: 0.9972 - val_loss: 0.4626 - val_acc: 0.8747 - val_f1_score: 0.8737\n",
            "Epoch 42/80\n",
            "84/84 [==============================] - 23s 275ms/step - loss: 0.0074 - acc: 0.9983 - f1_score: 0.9983 - val_loss: 0.4295 - val_acc: 0.8919 - val_f1_score: 0.8910\n",
            "Epoch 43/80\n",
            "84/84 [==============================] - 23s 274ms/step - loss: 0.0057 - acc: 0.9981 - f1_score: 0.9981 - val_loss: 0.4492 - val_acc: 0.8941 - val_f1_score: 0.8945\n",
            "Epoch 44/80\n",
            "84/84 [==============================] - 23s 274ms/step - loss: 0.0082 - acc: 0.9975 - f1_score: 0.9974 - val_loss: 0.4020 - val_acc: 0.9098 - val_f1_score: 0.9097\n",
            "Epoch 45/80\n",
            "84/84 [==============================] - 23s 275ms/step - loss: 0.0042 - acc: 0.9988 - f1_score: 0.9988 - val_loss: 0.4607 - val_acc: 0.8852 - val_f1_score: 0.8840\n",
            "Epoch 46/80\n",
            "84/84 [==============================] - 23s 274ms/step - loss: 0.0075 - acc: 0.9977 - f1_score: 0.9977 - val_loss: 1.1522 - val_acc: 0.7479 - val_f1_score: 0.7405\n",
            "Epoch 47/80\n",
            "84/84 [==============================] - 23s 274ms/step - loss: 0.0202 - acc: 0.9921 - f1_score: 0.9921 - val_loss: 0.4766 - val_acc: 0.8822 - val_f1_score: 0.8827\n",
            "Epoch 48/80\n",
            "84/84 [==============================] - 23s 275ms/step - loss: 0.0321 - acc: 0.9892 - f1_score: 0.9892 - val_loss: 0.6757 - val_acc: 0.8464 - val_f1_score: 0.8447\n",
            "Epoch 49/80\n",
            "84/84 [==============================] - 23s 275ms/step - loss: 0.1391 - acc: 0.9560 - f1_score: 0.9560 - val_loss: 2.7801 - val_acc: 0.4691 - val_f1_score: 0.4244\n",
            "Epoch 50/80\n",
            "84/84 [==============================] - 23s 274ms/step - loss: 0.1575 - acc: 0.9459 - f1_score: 0.9459 - val_loss: 0.7035 - val_acc: 0.8166 - val_f1_score: 0.8168\n",
            "Epoch 51/80\n",
            "84/84 [==============================] - 23s 275ms/step - loss: 0.0417 - acc: 0.9866 - f1_score: 0.9866 - val_loss: 0.4237 - val_acc: 0.8822 - val_f1_score: 0.8823\n",
            "Epoch 52/80\n",
            "84/84 [==============================] - 23s 275ms/step - loss: 0.0197 - acc: 0.9945 - f1_score: 0.9945 - val_loss: 0.5232 - val_acc: 0.8710 - val_f1_score: 0.8717\n",
            "Epoch 53/80\n",
            "84/84 [==============================] - 23s 275ms/step - loss: 0.0104 - acc: 0.9970 - f1_score: 0.9970 - val_loss: 0.3461 - val_acc: 0.9038 - val_f1_score: 0.9038\n",
            "Epoch 54/80\n",
            "84/84 [==============================] - 23s 275ms/step - loss: 0.0061 - acc: 0.9996 - f1_score: 0.9996 - val_loss: 0.3666 - val_acc: 0.9060 - val_f1_score: 0.9056\n",
            "Epoch 55/80\n",
            "84/84 [==============================] - 23s 275ms/step - loss: 0.0095 - acc: 0.9970 - f1_score: 0.9970 - val_loss: 0.3708 - val_acc: 0.9001 - val_f1_score: 0.8993\n",
            "Epoch 56/80\n",
            "84/84 [==============================] - 23s 276ms/step - loss: 0.0101 - acc: 0.9978 - f1_score: 0.9977 - val_loss: 0.3471 - val_acc: 0.9075 - val_f1_score: 0.9074\n",
            "Epoch 57/80\n",
            "84/84 [==============================] - 23s 276ms/step - loss: 0.0083 - acc: 0.9980 - f1_score: 0.9980 - val_loss: 0.3158 - val_acc: 0.9075 - val_f1_score: 0.9073\n",
            "Epoch 58/80\n",
            "84/84 [==============================] - 23s 275ms/step - loss: 0.0065 - acc: 0.9983 - f1_score: 0.9983 - val_loss: 0.3593 - val_acc: 0.9031 - val_f1_score: 0.9028\n",
            "Epoch 59/80\n",
            "84/84 [==============================] - 23s 275ms/step - loss: 0.0050 - acc: 0.9993 - f1_score: 0.9993 - val_loss: 0.3843 - val_acc: 0.9068 - val_f1_score: 0.9072\n",
            "Epoch 60/80\n",
            "84/84 [==============================] - 23s 275ms/step - loss: 0.0037 - acc: 0.9992 - f1_score: 0.9992 - val_loss: 0.3827 - val_acc: 0.9083 - val_f1_score: 0.9086\n",
            "Epoch 61/80\n",
            "84/84 [==============================] - 23s 276ms/step - loss: 0.0031 - acc: 0.9994 - f1_score: 0.9994 - val_loss: 0.4053 - val_acc: 0.9023 - val_f1_score: 0.9027\n",
            "Epoch 62/80\n",
            "84/84 [==============================] - 23s 275ms/step - loss: 0.0079 - acc: 0.9977 - f1_score: 0.9978 - val_loss: 0.3927 - val_acc: 0.8993 - val_f1_score: 0.9000\n",
            "Epoch 63/80\n",
            "84/84 [==============================] - 23s 276ms/step - loss: 0.0099 - acc: 0.9963 - f1_score: 0.9962 - val_loss: 0.4916 - val_acc: 0.8814 - val_f1_score: 0.8798\n",
            "Epoch 64/80\n",
            "84/84 [==============================] - 23s 275ms/step - loss: 0.0063 - acc: 0.9983 - f1_score: 0.9983 - val_loss: 0.4814 - val_acc: 0.8822 - val_f1_score: 0.8807\n",
            "Epoch 65/80\n",
            "84/84 [==============================] - 23s 275ms/step - loss: 0.0118 - acc: 0.9972 - f1_score: 0.9972 - val_loss: 0.4271 - val_acc: 0.8993 - val_f1_score: 0.8994\n",
            "Epoch 66/80\n",
            "84/84 [==============================] - 23s 275ms/step - loss: 0.0144 - acc: 0.9950 - f1_score: 0.9950 - val_loss: 0.7294 - val_acc: 0.8404 - val_f1_score: 0.8378\n",
            "Epoch 67/80\n",
            "84/84 [==============================] - 23s 275ms/step - loss: 0.0158 - acc: 0.9932 - f1_score: 0.9932 - val_loss: 0.6714 - val_acc: 0.8509 - val_f1_score: 0.8498\n",
            "Epoch 68/80\n",
            "84/84 [==============================] - 23s 275ms/step - loss: 0.0203 - acc: 0.9927 - f1_score: 0.9927 - val_loss: 0.5100 - val_acc: 0.8852 - val_f1_score: 0.8848\n",
            "Epoch 69/80\n",
            "84/84 [==============================] - 23s 274ms/step - loss: 0.0240 - acc: 0.9924 - f1_score: 0.9924 - val_loss: 0.5035 - val_acc: 0.8807 - val_f1_score: 0.8792\n",
            "Epoch 70/80\n",
            "84/84 [==============================] - 23s 275ms/step - loss: 0.0311 - acc: 0.9873 - f1_score: 0.9873 - val_loss: 1.2621 - val_acc: 0.8001 - val_f1_score: 0.7990\n",
            "Epoch 71/80\n",
            "84/84 [==============================] - 23s 275ms/step - loss: 0.0450 - acc: 0.9833 - f1_score: 0.9833 - val_loss: 0.7065 - val_acc: 0.8330 - val_f1_score: 0.8335\n",
            "Epoch 72/80\n",
            "84/84 [==============================] - 23s 275ms/step - loss: 0.0321 - acc: 0.9894 - f1_score: 0.9894 - val_loss: 0.7173 - val_acc: 0.8382 - val_f1_score: 0.8390\n",
            "Epoch 73/80\n",
            "84/84 [==============================] - 23s 275ms/step - loss: 0.0408 - acc: 0.9850 - f1_score: 0.9851 - val_loss: 0.5796 - val_acc: 0.8583 - val_f1_score: 0.8587\n",
            "Epoch 74/80\n",
            "84/84 [==============================] - 23s 275ms/step - loss: 0.0278 - acc: 0.9893 - f1_score: 0.9893 - val_loss: 0.5617 - val_acc: 0.8702 - val_f1_score: 0.8713\n",
            "Epoch 75/80\n",
            "84/84 [==============================] - 23s 276ms/step - loss: 0.0142 - acc: 0.9979 - f1_score: 0.9979 - val_loss: 0.4351 - val_acc: 0.8986 - val_f1_score: 0.8984\n",
            "Epoch 76/80\n",
            "84/84 [==============================] - 23s 275ms/step - loss: 0.0056 - acc: 0.9989 - f1_score: 0.9989 - val_loss: 0.3975 - val_acc: 0.9016 - val_f1_score: 0.9014\n",
            "Epoch 77/80\n",
            "84/84 [==============================] - 23s 275ms/step - loss: 0.0086 - acc: 0.9969 - f1_score: 0.9968 - val_loss: 0.4442 - val_acc: 0.8949 - val_f1_score: 0.8953\n",
            "Epoch 78/80\n",
            "84/84 [==============================] - 23s 275ms/step - loss: 0.0069 - acc: 0.9979 - f1_score: 0.9979 - val_loss: 0.5497 - val_acc: 0.8784 - val_f1_score: 0.8759\n",
            "Epoch 79/80\n",
            "84/84 [==============================] - 23s 276ms/step - loss: 0.0060 - acc: 0.9978 - f1_score: 0.9978 - val_loss: 0.4204 - val_acc: 0.8934 - val_f1_score: 0.8926\n",
            "Epoch 80/80\n",
            "84/84 [==============================] - 23s 275ms/step - loss: 0.0091 - acc: 0.9981 - f1_score: 0.9981 - val_loss: 0.4497 - val_acc: 0.8956 - val_f1_score: 0.8952\n"
          ],
          "name": "stdout"
        }
      ]
    },
    {
      "cell_type": "code",
      "metadata": {
        "id": "USOsztequIxt",
        "colab": {
          "base_uri": "https://localhost:8080/",
          "height": 286
        },
        "outputId": "0c12adda-fef2-4250-ac9a-193586700cb5"
      },
      "source": [
        "#Plotting the trend of the metrics during training\n",
        "\n",
        "fig, ax = plt.subplots(1, 2, figsize = (30, 5))\n",
        "ax = ax.ravel()\n",
        "\n",
        "for i, metric in enumerate([\"acc\", \"loss\"]):\n",
        "    ax[i].plot(history.history[metric])\n",
        "    ax[i].plot(history.history[\"val_\" + metric])\n",
        "    ax[i].set_title(\"Model {}\".format(metric))\n",
        "    ax[i].set_xlabel(\"Epochs\")\n",
        "    ax[i].set_ylabel(metric)\n",
        "    ax[i].legend([\"train\", \"val\"])"
      ],
      "execution_count": 14,
      "outputs": [
        {
          "output_type": "display_data",
          "data": {
            "image/png": "[encoded data removed]",
            "text/plain": [
              "<Figure size 2160x360 with 2 Axes>"
            ]
          },
          "metadata": {
            "tags": [],
            "needs_background": "light"
          }
        }
      ]
    },
    {
      "cell_type": "code",
      "metadata": {
        "id": "Nkixpz7MuNNZ",
        "colab": {
          "base_uri": "https://localhost:8080/"
        },
        "outputId": "8d3ce8a1-9996-4ffb-bb78-c177db7ce644"
      },
      "source": [
        "#Evaluating the model on the data\n",
        "\n",
        "#train_scores = model.evaluate(train_data, train_labels)\n",
        "val_scores = model.evaluate(val_data, val_labels)\n",
        "test_scores = model.evaluate(test_data, test_labels)\n",
        "\n",
        "#print(\"Training Accuracy: %.2f%%\"%(train_scores[1] * 100))\n",
        "print(\"Validation Accuracy: %.2f%%\"%(val_scores[1] * 100))\n",
        "print(\"Testing Accuracy: %.2f%%\"%(test_scores[1] * 100))"
      ],
      "execution_count": 15,
      "outputs": [
        {
          "output_type": "stream",
          "text": [
            "42/42 [==============================] - 4s 73ms/step - loss: 0.4497 - acc: 0.8956 - f1_score: 0.8952\n",
            "53/53 [==============================] - 3s 61ms/step - loss: 0.5236 - acc: 0.9021 - f1_score: 0.9016\n",
            "Validation Accuracy: 89.56%\n",
            "Testing Accuracy: 90.21%\n"
          ],
          "name": "stdout"
        }
      ]
    },
    {
      "cell_type": "code",
      "metadata": {
        "id": "DletKiFz69jQ"
      },
      "source": [
        "pred_labels = model.predict(test_data)"
      ],
      "execution_count": 16,
      "outputs": []
    },
    {
      "cell_type": "code",
      "metadata": {
        "id": "cXQx7JaY6_bD",
        "colab": {
          "base_uri": "https://localhost:8080/"
        },
        "outputId": "6e653935-57d0-4b7a-b4be-74989a03be00"
      },
      "source": [
        "def roundoff(arr):\n",
        "    \"\"\"To round off according to the argmax of each predicted label array. \"\"\"\n",
        "    arr[np.argwhere(arr != arr.max())] = 0\n",
        "    arr[np.argwhere(arr == arr.max())] = 1\n",
        "    return arr\n",
        "\n",
        "for labels in pred_labels:\n",
        "    labels = roundoff(labels)\n",
        "\n",
        "print(classification_report(test_labels, pred_labels, target_names=CLASSES))"
      ],
      "execution_count": 17,
      "outputs": [
        {
          "output_type": "stream",
          "text": [
            "              precision    recall  f1-score   support\n",
            "\n",
            "          AD       0.91      0.95      0.93       573\n",
            "          CN       0.92      0.87      0.89       540\n",
            "         MCI       0.88      0.88      0.88       563\n",
            "\n",
            "   micro avg       0.90      0.90      0.90      1676\n",
            "   macro avg       0.90      0.90      0.90      1676\n",
            "weighted avg       0.90      0.90      0.90      1676\n",
            " samples avg       0.90      0.90      0.90      1676\n",
            "\n"
          ],
          "name": "stdout"
        }
      ]
    },
    {
      "cell_type": "code",
      "metadata": {
        "id": "iEEA30WB7DVQ",
        "colab": {
          "base_uri": "https://localhost:8080/",
          "height": 444
        },
        "outputId": "6228d02f-9dbd-486e-bc8a-d9b123df7143"
      },
      "source": [
        "pred_ls = np.argmax(pred_labels, axis=1)\n",
        "test_ls = np.argmax(test_labels, axis=1)\n",
        "\n",
        "conf_arr = confusion_matrix(test_ls, pred_ls)\n",
        "\n",
        "plt.figure(figsize=(8, 6), dpi=80, facecolor='w', edgecolor='k')\n",
        "\n",
        "ax = sns.heatmap(conf_arr, cmap='Greens', annot=True, fmt='d', xticklabels=CLASSES, yticklabels=CLASSES)\n",
        "\n",
        "plt.title('Alzheimer\\'s Disease Diagnosis')\n",
        "plt.xlabel('Prediction')\n",
        "plt.ylabel('Truth')\n",
        "plt.show(ax)"
      ],
      "execution_count": 18,
      "outputs": [
        {
          "output_type": "display_data",
          "data": {
            "image/png": "[encoded data removed]",
            "text/plain": [
              "<Figure size 640x480 with 2 Axes>"
            ]
          },
          "metadata": {
            "tags": []
          }
        }
      ]
    },
    {
      "cell_type": "code",
      "metadata": {
        "id": "8rzOI96o7IoT",
        "colab": {
          "base_uri": "https://localhost:8080/"
        },
        "outputId": "b77a4ced-4cb5-400c-ead8-924fe80ceaf4"
      },
      "source": [
        "print(\"Balanced Accuracy Score: {} %\".format(round(BAS(test_ls, pred_ls) * 100, 2)))\n",
        "print(\"Matthew's Correlation Coefficient: {} %\".format(round(MCC(test_ls, pred_ls) * 100, 2)))"
      ],
      "execution_count": 19,
      "outputs": [
        {
          "output_type": "stream",
          "text": [
            "Balanced Accuracy Score: 90.15 %\n",
            "Matthew's Correlation Coefficient: 85.34 %\n"
          ],
          "name": "stdout"
        }
      ]
    },
    {
      "cell_type": "code",
      "metadata": {
        "id": "ppownEFS0oik"
      },
      "source": [
        ""
      ],
      "execution_count": null,
      "outputs": []
    }
  ]
}