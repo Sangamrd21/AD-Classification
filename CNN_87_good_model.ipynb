{
  "nbformat": 4,
  "nbformat_minor": 0,
  "metadata": {
    "colab": {
      "name": "CNN_86.ipynb",
      "provenance": [],
      "collapsed_sections": []
    },
    "kernelspec": {
      "name": "python3",
      "display_name": "Python 3"
    },
    "language_info": {
      "name": "python"
    },
    "accelerator": "GPU"
  },
  "cells": [
    {
      "cell_type": "code",
      "metadata": {
        "colab": {
          "base_uri": "https://localhost:8080/"
        },
        "id": "x0UInZkzqmvq",
        "outputId": "66f4bc8a-40bb-47c3-adad-bebd0d9619f6"
      },
      "source": [
        "from google.colab import drive\n",
        "drive.mount('/content/gdrive')"
      ],
      "execution_count": 10,
      "outputs": [
        {
          "output_type": "stream",
          "text": [
            "Drive already mounted at /content/gdrive; to attempt to forcibly remount, call drive.mount(\"/content/gdrive\", force_remount=True).\n"
          ],
          "name": "stdout"
        }
      ]
    },
    {
      "cell_type": "code",
      "metadata": {
        "id": "bTJQiaKZruB-"
      },
      "source": [
        "!unzip -q \"/content/gdrive/MyDrive/Final_dataset.zip\""
      ],
      "execution_count": 1,
      "outputs": []
    },
    {
      "cell_type": "code",
      "metadata": {
        "colab": {
          "base_uri": "https://localhost:8080/"
        },
        "id": "Vp_WUQV7kYnU",
        "outputId": "dcb7fbff-e10a-49a8-d941-9d59be11e98e"
      },
      "source": [
        "!pip install tensorflow_addons\n",
        "!pip install keras-tuner"
      ],
      "execution_count": 1,
      "outputs": [
        {
          "output_type": "stream",
          "text": [
            "Requirement already satisfied: tensorflow_addons in /usr/local/lib/python3.7/dist-packages (0.13.0)\n",
            "Requirement already satisfied: typeguard>=2.7 in /usr/local/lib/python3.7/dist-packages (from tensorflow_addons) (2.7.1)\n",
            "Requirement already satisfied: keras-tuner in /usr/local/lib/python3.7/dist-packages (1.0.2)\n",
            "Requirement already satisfied: tabulate in /usr/local/lib/python3.7/dist-packages (from keras-tuner) (0.8.9)\n",
            "Requirement already satisfied: scikit-learn in /usr/local/lib/python3.7/dist-packages (from keras-tuner) (0.22.2.post1)\n",
            "Requirement already satisfied: packaging in /usr/local/lib/python3.7/dist-packages (from keras-tuner) (20.9)\n",
            "Requirement already satisfied: colorama in /usr/local/lib/python3.7/dist-packages (from keras-tuner) (0.4.4)\n",
            "Requirement already satisfied: future in /usr/local/lib/python3.7/dist-packages (from keras-tuner) (0.16.0)\n",
            "Requirement already satisfied: numpy in /usr/local/lib/python3.7/dist-packages (from keras-tuner) (1.19.5)\n",
            "Requirement already satisfied: terminaltables in /usr/local/lib/python3.7/dist-packages (from keras-tuner) (3.1.0)\n",
            "Requirement already satisfied: tqdm in /usr/local/lib/python3.7/dist-packages (from keras-tuner) (4.41.1)\n",
            "Requirement already satisfied: requests in /usr/local/lib/python3.7/dist-packages (from keras-tuner) (2.23.0)\n",
            "Requirement already satisfied: scipy in /usr/local/lib/python3.7/dist-packages (from keras-tuner) (1.4.1)\n",
            "Requirement already satisfied: joblib>=0.11 in /usr/local/lib/python3.7/dist-packages (from scikit-learn->keras-tuner) (1.0.1)\n",
            "Requirement already satisfied: pyparsing>=2.0.2 in /usr/local/lib/python3.7/dist-packages (from packaging->keras-tuner) (2.4.7)\n",
            "Requirement already satisfied: urllib3!=1.25.0,!=1.25.1,<1.26,>=1.21.1 in /usr/local/lib/python3.7/dist-packages (from requests->keras-tuner) (1.24.3)\n",
            "Requirement already satisfied: chardet<4,>=3.0.2 in /usr/local/lib/python3.7/dist-packages (from requests->keras-tuner) (3.0.4)\n",
            "Requirement already satisfied: certifi>=2017.4.17 in /usr/local/lib/python3.7/dist-packages (from requests->keras-tuner) (2020.12.5)\n",
            "Requirement already satisfied: idna<3,>=2.5 in /usr/local/lib/python3.7/dist-packages (from requests->keras-tuner) (2.10)\n"
          ],
          "name": "stdout"
        }
      ]
    },
    {
      "cell_type": "code",
      "metadata": {
        "id": "8YZYM2K2foJB",
        "colab": {
          "base_uri": "https://localhost:8080/"
        },
        "outputId": "4583ee89-10d1-4325-8d88-9643c0854d55"
      },
      "source": [
        "from tensorflow import keras\n",
        "from tensorflow.keras import layers\n",
        "from kerastuner.tuners import RandomSearch\n",
        "import numpy as np\n",
        "import pandas as pd\n",
        "import seaborn as sns\n",
        "import tensorflow as tf\n",
        "import matplotlib.pyplot as plt\n",
        "import os \n",
        "from distutils.dir_util import copy_tree, remove_tree\n",
        "from PIL import Image\n",
        "from random import randint\n",
        "from imblearn.over_sampling import SMOTE\n",
        "from sklearn.model_selection import train_test_split\n",
        "from sklearn.metrics import matthews_corrcoef as MCC\n",
        "from sklearn.metrics import balanced_accuracy_score as BAS\n",
        "from sklearn.metrics import classification_report, confusion_matrix\n",
        "import tensorflow_addons as tfa\n",
        "from keras.utils.vis_utils import plot_model\n",
        "from tensorflow.keras import Sequential, Input\n",
        "from tensorflow.keras.layers import Dense, Dropout\n",
        "from tensorflow.keras.layers import Conv2D, Flatten\n",
        "from tensorflow.keras.callbacks import EarlyStopping\n",
        "from tensorflow.keras.applications.inception_v3 import InceptionV3\n",
        "from tensorflow.keras.preprocessing.image import ImageDataGenerator as IDG\n",
        "from tensorflow.keras.layers import SeparableConv2D, BatchNormalization, MaxPool2D"
      ],
      "execution_count": 2,
      "outputs": [
        {
          "output_type": "stream",
          "text": [
            "/usr/local/lib/python3.7/dist-packages/sklearn/externals/six.py:31: FutureWarning: The module is deprecated in version 0.21 and will be removed in version 0.23 since we've dropped support for Python 2.7. Please rely on the official version of six (https://pypi.org/project/six/).\n",
            "  \"(https://pypi.org/project/six/).\", FutureWarning)\n",
            "/usr/local/lib/python3.7/dist-packages/sklearn/utils/deprecation.py:144: FutureWarning: The sklearn.neighbors.base module is  deprecated in version 0.22 and will be removed in version 0.24. The corresponding classes / functions should instead be imported from sklearn.neighbors. Anything that cannot be imported from sklearn.neighbors is now part of the private API.\n",
            "  warnings.warn(message, FutureWarning)\n"
          ],
          "name": "stderr"
        }
      ]
    },
    {
      "cell_type": "code",
      "metadata": {
        "id": "EscUjukIsPMn"
      },
      "source": [
        "WORK_DIR = '/content/Final_dataset/'\n",
        "\n",
        "CLASSES = ['AD', 'CN', 'MCI']\n",
        "\n",
        "IMAGE_SIZE = [256, 170]\n",
        "DIM = (256, 170)"
      ],
      "execution_count": 3,
      "outputs": []
    },
    {
      "cell_type": "code",
      "metadata": {
        "colab": {
          "base_uri": "https://localhost:8080/"
        },
        "id": "FYLnYNXZtLZb",
        "outputId": "e3e02dd4-fc82-4640-ce39-3018aa6b60d7"
      },
      "source": [
        "#Performing Image Augmentation to have more data samples\n",
        "\n",
        "DATA_FORMAT = \"channels_last\"\n",
        "\n",
        "work_dr = IDG(rescale = 1./255, data_format=DATA_FORMAT)\n",
        "\n",
        "train_data_gen = work_dr.flow_from_directory(directory=WORK_DIR, target_size=DIM, batch_size=9000, shuffle=False)"
      ],
      "execution_count": 4,
      "outputs": [
        {
          "output_type": "stream",
          "text": [
            "Found 8379 images belonging to 3 classes.\n"
          ],
          "name": "stdout"
        }
      ]
    },
    {
      "cell_type": "code",
      "metadata": {
        "id": "vixVGGfRtUKg"
      },
      "source": [
        "#Retrieving the data from the ImageDataGenerator iterator\n",
        "\n",
        "train_data, train_labels = train_data_gen.next()\n"
      ],
      "execution_count": 5,
      "outputs": []
    },
    {
      "cell_type": "code",
      "metadata": {
        "colab": {
          "base_uri": "https://localhost:8080/"
        },
        "id": "CaIjeZ-ytYWC",
        "outputId": "58bab93f-40b3-4511-b224-8e1d04bad0b5"
      },
      "source": [
        "\n",
        "#Getting to know the dimensions of our dataset\n",
        "\n",
        "print(train_data.shape, train_labels.shape)"
      ],
      "execution_count": 6,
      "outputs": [
        {
          "output_type": "stream",
          "text": [
            "(8379, 256, 170, 3) (8379, 3)\n"
          ],
          "name": "stdout"
        }
      ]
    },
    {
      "cell_type": "code",
      "metadata": {
        "id": "3OEDesyztePy"
      },
      "source": [
        "#Splitting the data into train, test, and validation sets\n",
        "\n",
        "train_data, test_data, train_labels, test_labels = train_test_split(train_data, train_labels, test_size = 0.2, random_state=42)\n",
        "train_data, val_data, train_labels, val_labels = train_test_split(train_data, train_labels, test_size = 0.2, random_state=42)"
      ],
      "execution_count": 7,
      "outputs": []
    },
    {
      "cell_type": "code",
      "metadata": {
        "id": "Pn5in53itsAe"
      },
      "source": [
        "act = 'relu'\n",
        "model = keras.Sequential([\n",
        "    Input(shape=(256, 170, 3)),\n",
        "    Conv2D(16, 3, activation = act, padding = 'same'),\n",
        "    Dropout(0.2),\n",
        "    Conv2D(32, 3, activation = act, padding = 'same'),\n",
        "    MaxPool2D(),\n",
        "    #Conv2D(64, 3, activation = act, padding = 'same'),                          \n",
        "    Dropout(0.2),\n",
        "    Conv2D(64, 3, activation = act, padding = 'same'),\n",
        "    MaxPool2D(),\n",
        "    #Conv2D(128, 3, activation = act, padding = 'same'),\n",
        "    Dropout(0.2),\n",
        "    Conv2D(128, 3, activation = act, padding = 'same'),\n",
        "    #BatchNormalization()\n",
        "    MaxPool2D(),\n",
        "    Dropout(0.2),\n",
        "    Flatten(),\n",
        "    Dropout(0.3),\n",
        "    Dense(1024),\n",
        "    Dropout(0.2),\n",
        "    Dense(512),\n",
        "    Dropout(0.2),\n",
        "    Dense(3, activation='softmax')\n",
        "])\n"
      ],
      "execution_count": 8,
      "outputs": []
    },
    {
      "cell_type": "code",
      "metadata": {
        "id": "lcKCUfj2MAJf"
      },
      "source": [
        "class MyCallback(tf.keras.callbacks.Callback):\n",
        "    def on_epoch_end(self, epoch, logs={}):\n",
        "        if logs.get('val_acc') > 0.99:\n",
        "            print(\"\\nReached accuracy threshold! Terminating training.\")\n",
        "            self.model.stop_training = True\n",
        "            \n",
        "my_callback = MyCallback()\n",
        "\n",
        "#EarlyStopping callback to make sure model is always learning\n",
        "early_stopping = EarlyStopping(monitor='val_loss', patience=2)"
      ],
      "execution_count": 9,
      "outputs": []
    },
    {
      "cell_type": "code",
      "metadata": {
        "id": "eH2_qWOBuEFo",
        "colab": {
          "base_uri": "https://localhost:8080/"
        },
        "outputId": "8320cedd-5c3d-4db6-ee19-2d45e4f7c578"
      },
      "source": [
        "METRICS = [tf.keras.metrics.CategoricalAccuracy(name='acc'),\n",
        "           tf.keras.metrics.AUC(name='auc'), \n",
        "           tfa.metrics.F1Score(num_classes=3)]\n",
        "\n",
        "CALLBACKS = [my_callback]\n",
        "    \n",
        "model.compile(optimizer='adam',\n",
        "              loss=tf.losses.CategoricalCrossentropy(),\n",
        "              metrics=METRICS)\n",
        "\n",
        "model.summary()"
      ],
      "execution_count": 10,
      "outputs": [
        {
          "output_type": "stream",
          "text": [
            "Model: \"sequential\"\n",
            "_________________________________________________________________\n",
            "Layer (type)                 Output Shape              Param #   \n",
            "=================================================================\n",
            "conv2d (Conv2D)              (None, 256, 170, 16)      448       \n",
            "_________________________________________________________________\n",
            "dropout (Dropout)            (None, 256, 170, 16)      0         \n",
            "_________________________________________________________________\n",
            "conv2d_1 (Conv2D)            (None, 256, 170, 32)      4640      \n",
            "_________________________________________________________________\n",
            "max_pooling2d (MaxPooling2D) (None, 128, 85, 32)       0         \n",
            "_________________________________________________________________\n",
            "dropout_1 (Dropout)          (None, 128, 85, 32)       0         \n",
            "_________________________________________________________________\n",
            "conv2d_2 (Conv2D)            (None, 128, 85, 64)       18496     \n",
            "_________________________________________________________________\n",
            "max_pooling2d_1 (MaxPooling2 (None, 64, 42, 64)        0         \n",
            "_________________________________________________________________\n",
            "dropout_2 (Dropout)          (None, 64, 42, 64)        0         \n",
            "_________________________________________________________________\n",
            "conv2d_3 (Conv2D)            (None, 64, 42, 128)       73856     \n",
            "_________________________________________________________________\n",
            "max_pooling2d_2 (MaxPooling2 (None, 32, 21, 128)       0         \n",
            "_________________________________________________________________\n",
            "dropout_3 (Dropout)          (None, 32, 21, 128)       0         \n",
            "_________________________________________________________________\n",
            "flatten (Flatten)            (None, 86016)             0         \n",
            "_________________________________________________________________\n",
            "dropout_4 (Dropout)          (None, 86016)             0         \n",
            "_________________________________________________________________\n",
            "dense (Dense)                (None, 1024)              88081408  \n",
            "_________________________________________________________________\n",
            "dropout_5 (Dropout)          (None, 1024)              0         \n",
            "_________________________________________________________________\n",
            "dense_1 (Dense)              (None, 512)               524800    \n",
            "_________________________________________________________________\n",
            "dropout_6 (Dropout)          (None, 512)               0         \n",
            "_________________________________________________________________\n",
            "dense_2 (Dense)              (None, 3)                 1539      \n",
            "=================================================================\n",
            "Total params: 88,705,187\n",
            "Trainable params: 88,705,187\n",
            "Non-trainable params: 0\n",
            "_________________________________________________________________\n"
          ],
          "name": "stdout"
        }
      ]
    },
    {
      "cell_type": "code",
      "metadata": {
        "id": "VqZwX9xWpYlH",
        "colab": {
          "base_uri": "https://localhost:8080/"
        },
        "outputId": "51d5973b-ad36-4a9d-e5ec-d640e7f21c5a"
      },
      "source": [
        "EPOCHS = 70\n",
        "\n",
        "history = model.fit(train_data, train_labels, validation_data=(val_data, val_labels), callbacks=CALLBACKS, epochs=EPOCHS, batch_size=64)"
      ],
      "execution_count": 11,
      "outputs": [
        {
          "output_type": "stream",
          "text": [
            "Epoch 1/70\n",
            "84/84 [==============================] - 56s 248ms/step - loss: 5.3986 - acc: 0.3366 - auc: 0.4996 - f1_score: 0.3107 - val_loss: 1.0888 - val_acc: 0.3475 - val_auc: 0.5806 - val_f1_score: 0.1867\n",
            "Epoch 2/70\n",
            "84/84 [==============================] - 17s 199ms/step - loss: 1.0689 - acc: 0.4334 - auc: 0.6066 - f1_score: 0.4294 - val_loss: 1.0708 - val_acc: 0.4564 - val_auc: 0.6126 - val_f1_score: 0.3786\n",
            "Epoch 3/70\n",
            "84/84 [==============================] - 17s 197ms/step - loss: 0.9994 - acc: 0.4995 - auc: 0.6924 - f1_score: 0.4875 - val_loss: 1.0525 - val_acc: 0.4236 - val_auc: 0.6257 - val_f1_score: 0.3314\n",
            "Epoch 4/70\n",
            "84/84 [==============================] - 16s 196ms/step - loss: 0.9657 - acc: 0.5335 - auc: 0.7221 - f1_score: 0.5273 - val_loss: 0.9952 - val_acc: 0.4996 - val_auc: 0.6962 - val_f1_score: 0.4615\n",
            "Epoch 5/70\n",
            "84/84 [==============================] - 17s 197ms/step - loss: 0.9353 - acc: 0.5707 - auc: 0.7450 - f1_score: 0.5681 - val_loss: 0.9719 - val_acc: 0.5474 - val_auc: 0.7257 - val_f1_score: 0.5233\n",
            "Epoch 6/70\n",
            "84/84 [==============================] - 17s 198ms/step - loss: 0.9042 - acc: 0.5856 - auc: 0.7650 - f1_score: 0.5806 - val_loss: 1.0042 - val_acc: 0.4586 - val_auc: 0.6786 - val_f1_score: 0.4051\n",
            "Epoch 7/70\n",
            "84/84 [==============================] - 17s 198ms/step - loss: 0.8802 - acc: 0.6059 - auc: 0.7816 - f1_score: 0.6032 - val_loss: 0.9523 - val_acc: 0.5175 - val_auc: 0.7292 - val_f1_score: 0.4961\n",
            "Epoch 8/70\n",
            "84/84 [==============================] - 17s 197ms/step - loss: 0.8386 - acc: 0.6234 - auc: 0.8029 - f1_score: 0.6218 - val_loss: 1.0017 - val_acc: 0.4594 - val_auc: 0.6927 - val_f1_score: 0.4054\n",
            "Epoch 9/70\n",
            "84/84 [==============================] - 16s 197ms/step - loss: 0.8066 - acc: 0.6501 - auc: 0.8179 - f1_score: 0.6471 - val_loss: 0.9297 - val_acc: 0.5250 - val_auc: 0.7422 - val_f1_score: 0.5025\n",
            "Epoch 10/70\n",
            "84/84 [==============================] - 16s 196ms/step - loss: 0.7953 - acc: 0.6470 - auc: 0.8265 - f1_score: 0.6454 - val_loss: 0.9061 - val_acc: 0.5481 - val_auc: 0.7594 - val_f1_score: 0.5383\n",
            "Epoch 11/70\n",
            "84/84 [==============================] - 16s 196ms/step - loss: 0.7582 - acc: 0.6740 - auc: 0.8404 - f1_score: 0.6723 - val_loss: 0.9015 - val_acc: 0.5660 - val_auc: 0.7650 - val_f1_score: 0.5561\n",
            "Epoch 12/70\n",
            "84/84 [==============================] - 17s 197ms/step - loss: 0.7196 - acc: 0.6928 - auc: 0.8589 - f1_score: 0.6924 - val_loss: 0.8677 - val_acc: 0.5720 - val_auc: 0.7830 - val_f1_score: 0.5672\n",
            "Epoch 13/70\n",
            "84/84 [==============================] - 17s 197ms/step - loss: 0.6853 - acc: 0.7053 - auc: 0.8726 - f1_score: 0.7052 - val_loss: 0.8182 - val_acc: 0.6264 - val_auc: 0.8123 - val_f1_score: 0.6155\n",
            "Epoch 14/70\n",
            "84/84 [==============================] - 16s 196ms/step - loss: 0.6545 - acc: 0.7313 - auc: 0.8844 - f1_score: 0.7303 - val_loss: 0.8488 - val_acc: 0.5727 - val_auc: 0.7941 - val_f1_score: 0.5630\n",
            "Epoch 15/70\n",
            "84/84 [==============================] - 17s 197ms/step - loss: 0.6222 - acc: 0.7425 - auc: 0.8953 - f1_score: 0.7418 - val_loss: 0.7981 - val_acc: 0.6286 - val_auc: 0.8219 - val_f1_score: 0.6202\n",
            "Epoch 16/70\n",
            "84/84 [==============================] - 16s 196ms/step - loss: 0.5951 - acc: 0.7622 - auc: 0.9068 - f1_score: 0.7626 - val_loss: 0.7369 - val_acc: 0.6779 - val_auc: 0.8533 - val_f1_score: 0.6760\n",
            "Epoch 17/70\n",
            "84/84 [==============================] - 16s 196ms/step - loss: 0.5846 - acc: 0.7487 - auc: 0.9086 - f1_score: 0.7486 - val_loss: 0.7568 - val_acc: 0.6555 - val_auc: 0.8438 - val_f1_score: 0.6520\n",
            "Epoch 18/70\n",
            "84/84 [==============================] - 16s 196ms/step - loss: 0.5354 - acc: 0.7828 - auc: 0.9232 - f1_score: 0.7824 - val_loss: 0.6825 - val_acc: 0.7069 - val_auc: 0.8770 - val_f1_score: 0.7016\n",
            "Epoch 19/70\n",
            "84/84 [==============================] - 16s 196ms/step - loss: 0.5093 - acc: 0.7879 - auc: 0.9299 - f1_score: 0.7874 - val_loss: 0.6185 - val_acc: 0.7479 - val_auc: 0.9005 - val_f1_score: 0.7463\n",
            "Epoch 20/70\n",
            "84/84 [==============================] - 16s 196ms/step - loss: 0.4929 - acc: 0.8089 - auc: 0.9349 - f1_score: 0.8087 - val_loss: 0.6500 - val_acc: 0.7345 - val_auc: 0.8877 - val_f1_score: 0.7327\n",
            "Epoch 21/70\n",
            "84/84 [==============================] - 16s 196ms/step - loss: 0.4488 - acc: 0.8155 - auc: 0.9450 - f1_score: 0.8155 - val_loss: 0.6096 - val_acc: 0.7576 - val_auc: 0.9032 - val_f1_score: 0.7542\n",
            "Epoch 22/70\n",
            "84/84 [==============================] - 17s 197ms/step - loss: 0.4565 - acc: 0.8205 - auc: 0.9446 - f1_score: 0.8203 - val_loss: 0.6006 - val_acc: 0.7711 - val_auc: 0.9079 - val_f1_score: 0.7708\n",
            "Epoch 23/70\n",
            "84/84 [==============================] - 17s 197ms/step - loss: 0.4255 - acc: 0.8385 - auc: 0.9511 - f1_score: 0.8384 - val_loss: 0.6495 - val_acc: 0.7450 - val_auc: 0.8897 - val_f1_score: 0.7435\n",
            "Epoch 24/70\n",
            "84/84 [==============================] - 17s 197ms/step - loss: 0.4141 - acc: 0.8430 - auc: 0.9537 - f1_score: 0.8423 - val_loss: 0.6666 - val_acc: 0.7271 - val_auc: 0.8886 - val_f1_score: 0.7236\n",
            "Epoch 25/70\n",
            "84/84 [==============================] - 16s 196ms/step - loss: 0.3682 - acc: 0.8536 - auc: 0.9631 - f1_score: 0.8528 - val_loss: 0.6132 - val_acc: 0.7726 - val_auc: 0.9082 - val_f1_score: 0.7729\n",
            "Epoch 26/70\n",
            "84/84 [==============================] - 16s 196ms/step - loss: 0.3650 - acc: 0.8589 - auc: 0.9632 - f1_score: 0.8587 - val_loss: 0.6479 - val_acc: 0.7517 - val_auc: 0.8975 - val_f1_score: 0.7435\n",
            "Epoch 27/70\n",
            "84/84 [==============================] - 16s 196ms/step - loss: 0.3657 - acc: 0.8550 - auc: 0.9633 - f1_score: 0.8549 - val_loss: 0.6736 - val_acc: 0.7405 - val_auc: 0.8894 - val_f1_score: 0.7324\n",
            "Epoch 28/70\n",
            "84/84 [==============================] - 16s 196ms/step - loss: 0.3247 - acc: 0.8805 - auc: 0.9707 - f1_score: 0.8798 - val_loss: 0.6007 - val_acc: 0.7748 - val_auc: 0.9106 - val_f1_score: 0.7736\n",
            "Epoch 29/70\n",
            "84/84 [==============================] - 17s 197ms/step - loss: 0.3116 - acc: 0.8771 - auc: 0.9727 - f1_score: 0.8769 - val_loss: 0.5975 - val_acc: 0.7748 - val_auc: 0.9149 - val_f1_score: 0.7719\n",
            "Epoch 30/70\n",
            "84/84 [==============================] - 17s 197ms/step - loss: 0.2933 - acc: 0.8915 - auc: 0.9760 - f1_score: 0.8911 - val_loss: 0.5228 - val_acc: 0.8180 - val_auc: 0.9325 - val_f1_score: 0.8161\n",
            "Epoch 31/70\n",
            "84/84 [==============================] - 16s 197ms/step - loss: 0.2585 - acc: 0.9042 - auc: 0.9811 - f1_score: 0.9039 - val_loss: 0.5444 - val_acc: 0.8292 - val_auc: 0.9311 - val_f1_score: 0.8282\n",
            "Epoch 32/70\n",
            "84/84 [==============================] - 17s 197ms/step - loss: 0.2801 - acc: 0.8944 - auc: 0.9778 - f1_score: 0.8944 - val_loss: 0.5188 - val_acc: 0.8277 - val_auc: 0.9339 - val_f1_score: 0.8284\n",
            "Epoch 33/70\n",
            "84/84 [==============================] - 17s 197ms/step - loss: 0.2716 - acc: 0.8954 - auc: 0.9792 - f1_score: 0.8946 - val_loss: 0.5817 - val_acc: 0.7957 - val_auc: 0.9235 - val_f1_score: 0.7929\n",
            "Epoch 34/70\n",
            "84/84 [==============================] - 17s 197ms/step - loss: 0.2407 - acc: 0.9057 - auc: 0.9830 - f1_score: 0.9058 - val_loss: 0.5370 - val_acc: 0.8307 - val_auc: 0.9334 - val_f1_score: 0.8293\n",
            "Epoch 35/70\n",
            "84/84 [==============================] - 16s 196ms/step - loss: 0.2289 - acc: 0.9154 - auc: 0.9851 - f1_score: 0.9154 - val_loss: 0.6078 - val_acc: 0.7949 - val_auc: 0.9200 - val_f1_score: 0.7952\n",
            "Epoch 36/70\n",
            "84/84 [==============================] - 16s 196ms/step - loss: 0.2221 - acc: 0.9149 - auc: 0.9858 - f1_score: 0.9150 - val_loss: 0.5388 - val_acc: 0.8285 - val_auc: 0.9355 - val_f1_score: 0.8291\n",
            "Epoch 37/70\n",
            "84/84 [==============================] - 16s 196ms/step - loss: 0.2186 - acc: 0.9126 - auc: 0.9860 - f1_score: 0.9123 - val_loss: 0.5689 - val_acc: 0.8136 - val_auc: 0.9315 - val_f1_score: 0.8098\n",
            "Epoch 38/70\n",
            "84/84 [==============================] - 16s 196ms/step - loss: 0.2177 - acc: 0.9169 - auc: 0.9864 - f1_score: 0.9166 - val_loss: 0.5353 - val_acc: 0.8307 - val_auc: 0.9354 - val_f1_score: 0.8309\n",
            "Epoch 39/70\n",
            "84/84 [==============================] - 17s 197ms/step - loss: 0.1858 - acc: 0.9309 - auc: 0.9898 - f1_score: 0.9309 - val_loss: 0.5680 - val_acc: 0.8233 - val_auc: 0.9381 - val_f1_score: 0.8234\n",
            "Epoch 40/70\n",
            "84/84 [==============================] - 17s 197ms/step - loss: 0.1905 - acc: 0.9280 - auc: 0.9889 - f1_score: 0.9279 - val_loss: 0.5203 - val_acc: 0.8464 - val_auc: 0.9438 - val_f1_score: 0.8470\n",
            "Epoch 41/70\n",
            "84/84 [==============================] - 16s 196ms/step - loss: 0.1824 - acc: 0.9379 - auc: 0.9900 - f1_score: 0.9378 - val_loss: 0.5605 - val_acc: 0.8225 - val_auc: 0.9397 - val_f1_score: 0.8207\n",
            "Epoch 42/70\n",
            "84/84 [==============================] - 17s 197ms/step - loss: 0.1933 - acc: 0.9351 - auc: 0.9883 - f1_score: 0.9352 - val_loss: 0.5380 - val_acc: 0.8412 - val_auc: 0.9387 - val_f1_score: 0.8408\n",
            "Epoch 43/70\n",
            "84/84 [==============================] - 16s 196ms/step - loss: 0.1710 - acc: 0.9399 - auc: 0.9909 - f1_score: 0.9399 - val_loss: 0.5573 - val_acc: 0.8389 - val_auc: 0.9422 - val_f1_score: 0.8385\n",
            "Epoch 44/70\n",
            "84/84 [==============================] - 16s 196ms/step - loss: 0.1585 - acc: 0.9430 - auc: 0.9922 - f1_score: 0.9430 - val_loss: 0.5772 - val_acc: 0.8210 - val_auc: 0.9357 - val_f1_score: 0.8192\n",
            "Epoch 45/70\n",
            "84/84 [==============================] - 17s 197ms/step - loss: 0.1537 - acc: 0.9459 - auc: 0.9921 - f1_score: 0.9458 - val_loss: 0.5776 - val_acc: 0.8345 - val_auc: 0.9408 - val_f1_score: 0.8329\n",
            "Epoch 46/70\n",
            "84/84 [==============================] - 16s 196ms/step - loss: 0.1540 - acc: 0.9413 - auc: 0.9928 - f1_score: 0.9413 - val_loss: 0.5440 - val_acc: 0.8486 - val_auc: 0.9480 - val_f1_score: 0.8481\n",
            "Epoch 47/70\n",
            "84/84 [==============================] - 17s 198ms/step - loss: 0.1563 - acc: 0.9463 - auc: 0.9921 - f1_score: 0.9461 - val_loss: 0.6130 - val_acc: 0.8151 - val_auc: 0.9329 - val_f1_score: 0.8154\n",
            "Epoch 48/70\n",
            "84/84 [==============================] - 17s 198ms/step - loss: 0.1540 - acc: 0.9449 - auc: 0.9919 - f1_score: 0.9450 - val_loss: 0.6017 - val_acc: 0.8307 - val_auc: 0.9399 - val_f1_score: 0.8305\n",
            "Epoch 49/70\n",
            "84/84 [==============================] - 17s 197ms/step - loss: 0.1408 - acc: 0.9464 - auc: 0.9938 - f1_score: 0.9460 - val_loss: 0.5315 - val_acc: 0.8397 - val_auc: 0.9435 - val_f1_score: 0.8388\n",
            "Epoch 50/70\n",
            "84/84 [==============================] - 17s 197ms/step - loss: 0.1295 - acc: 0.9530 - auc: 0.9942 - f1_score: 0.9530 - val_loss: 0.4981 - val_acc: 0.8352 - val_auc: 0.9497 - val_f1_score: 0.8343\n",
            "Epoch 51/70\n",
            "84/84 [==============================] - 17s 197ms/step - loss: 0.1479 - acc: 0.9467 - auc: 0.9930 - f1_score: 0.9470 - val_loss: 0.5615 - val_acc: 0.8479 - val_auc: 0.9412 - val_f1_score: 0.8471\n",
            "Epoch 52/70\n",
            "84/84 [==============================] - 17s 197ms/step - loss: 0.1181 - acc: 0.9577 - auc: 0.9953 - f1_score: 0.9576 - val_loss: 0.5869 - val_acc: 0.8441 - val_auc: 0.9425 - val_f1_score: 0.8442\n",
            "Epoch 53/70\n",
            "84/84 [==============================] - 17s 197ms/step - loss: 0.1307 - acc: 0.9582 - auc: 0.9943 - f1_score: 0.9584 - val_loss: 0.6185 - val_acc: 0.8389 - val_auc: 0.9408 - val_f1_score: 0.8371\n",
            "Epoch 54/70\n",
            "84/84 [==============================] - 17s 197ms/step - loss: 0.1121 - acc: 0.9626 - auc: 0.9955 - f1_score: 0.9625 - val_loss: 0.5693 - val_acc: 0.8352 - val_auc: 0.9394 - val_f1_score: 0.8360\n",
            "Epoch 55/70\n",
            "84/84 [==============================] - 17s 197ms/step - loss: 0.1157 - acc: 0.9604 - auc: 0.9951 - f1_score: 0.9604 - val_loss: 0.5206 - val_acc: 0.8501 - val_auc: 0.9544 - val_f1_score: 0.8500\n",
            "Epoch 56/70\n",
            "84/84 [==============================] - 17s 197ms/step - loss: 0.1229 - acc: 0.9567 - auc: 0.9946 - f1_score: 0.9569 - val_loss: 0.6268 - val_acc: 0.8352 - val_auc: 0.9398 - val_f1_score: 0.8348\n",
            "Epoch 57/70\n",
            "84/84 [==============================] - 17s 197ms/step - loss: 0.1007 - acc: 0.9642 - auc: 0.9965 - f1_score: 0.9643 - val_loss: 0.5517 - val_acc: 0.8434 - val_auc: 0.9437 - val_f1_score: 0.8433\n",
            "Epoch 58/70\n",
            "84/84 [==============================] - 17s 197ms/step - loss: 0.1432 - acc: 0.9510 - auc: 0.9932 - f1_score: 0.9510 - val_loss: 0.6128 - val_acc: 0.8471 - val_auc: 0.9415 - val_f1_score: 0.8477\n",
            "Epoch 59/70\n",
            "84/84 [==============================] - 17s 197ms/step - loss: 0.1185 - acc: 0.9525 - auc: 0.9954 - f1_score: 0.9524 - val_loss: 0.6904 - val_acc: 0.8374 - val_auc: 0.9370 - val_f1_score: 0.8379\n",
            "Epoch 60/70\n",
            "84/84 [==============================] - 16s 196ms/step - loss: 0.1181 - acc: 0.9583 - auc: 0.9954 - f1_score: 0.9583 - val_loss: 0.6169 - val_acc: 0.8479 - val_auc: 0.9480 - val_f1_score: 0.8468\n",
            "Epoch 61/70\n",
            "84/84 [==============================] - 16s 196ms/step - loss: 0.1107 - acc: 0.9582 - auc: 0.9960 - f1_score: 0.9580 - val_loss: 0.5694 - val_acc: 0.8441 - val_auc: 0.9470 - val_f1_score: 0.8447\n",
            "Epoch 62/70\n",
            "84/84 [==============================] - 17s 197ms/step - loss: 0.1075 - acc: 0.9597 - auc: 0.9960 - f1_score: 0.9596 - val_loss: 0.7191 - val_acc: 0.8359 - val_auc: 0.9399 - val_f1_score: 0.8343\n",
            "Epoch 63/70\n",
            "84/84 [==============================] - 17s 197ms/step - loss: 0.1133 - acc: 0.9598 - auc: 0.9957 - f1_score: 0.9598 - val_loss: 0.6232 - val_acc: 0.8434 - val_auc: 0.9454 - val_f1_score: 0.8433\n",
            "Epoch 64/70\n",
            "84/84 [==============================] - 17s 197ms/step - loss: 0.1140 - acc: 0.9651 - auc: 0.9949 - f1_score: 0.9651 - val_loss: 0.5681 - val_acc: 0.8427 - val_auc: 0.9499 - val_f1_score: 0.8426\n",
            "Epoch 65/70\n",
            "84/84 [==============================] - 17s 197ms/step - loss: 0.0903 - acc: 0.9662 - auc: 0.9975 - f1_score: 0.9659 - val_loss: 0.6733 - val_acc: 0.8419 - val_auc: 0.9406 - val_f1_score: 0.8415\n",
            "Epoch 66/70\n",
            "84/84 [==============================] - 16s 196ms/step - loss: 0.1182 - acc: 0.9571 - auc: 0.9955 - f1_score: 0.9571 - val_loss: 0.5996 - val_acc: 0.8419 - val_auc: 0.9439 - val_f1_score: 0.8417\n",
            "Epoch 67/70\n",
            "84/84 [==============================] - 16s 197ms/step - loss: 0.1015 - acc: 0.9646 - auc: 0.9964 - f1_score: 0.9645 - val_loss: 0.7024 - val_acc: 0.8322 - val_auc: 0.9357 - val_f1_score: 0.8324\n",
            "Epoch 68/70\n",
            "84/84 [==============================] - 16s 196ms/step - loss: 0.1072 - acc: 0.9635 - auc: 0.9962 - f1_score: 0.9636 - val_loss: 0.6279 - val_acc: 0.8300 - val_auc: 0.9423 - val_f1_score: 0.8279\n",
            "Epoch 69/70\n",
            "84/84 [==============================] - 17s 197ms/step - loss: 0.0889 - acc: 0.9677 - auc: 0.9973 - f1_score: 0.9677 - val_loss: 0.6445 - val_acc: 0.8307 - val_auc: 0.9378 - val_f1_score: 0.8283\n",
            "Epoch 70/70\n",
            "84/84 [==============================] - 16s 196ms/step - loss: 0.1017 - acc: 0.9642 - auc: 0.9968 - f1_score: 0.9640 - val_loss: 0.5514 - val_acc: 0.8501 - val_auc: 0.9509 - val_f1_score: 0.8490\n"
          ],
          "name": "stdout"
        }
      ]
    },
    {
      "cell_type": "code",
      "metadata": {
        "id": "USOsztequIxt",
        "colab": {
          "base_uri": "https://localhost:8080/",
          "height": 302
        },
        "outputId": "0766165d-9988-45a5-b30e-175ee914f558"
      },
      "source": [
        "#Plotting the trend of the metrics during training\n",
        "\n",
        "fig, ax = plt.subplots(1, 3, figsize = (30, 5))\n",
        "ax = ax.ravel()\n",
        "\n",
        "for i, metric in enumerate([\"acc\", \"auc\", \"loss\"]):\n",
        "    ax[i].plot(history.history[metric])\n",
        "    ax[i].plot(history.history[\"val_\" + metric])\n",
        "    ax[i].set_title(\"Model {}\".format(metric))\n",
        "    ax[i].set_xlabel(\"Epochs\")\n",
        "    ax[i].set_ylabel(metric)\n",
        "    ax[i].legend([\"train\", \"val\"])"
      ],
      "execution_count": 14,
      "outputs": [
        {
          "output_type": "display_data",
          "data": {
            "image/png": "[encoded data removed]",
            "text/plain": [
              "<Figure size 2160x360 with 3 Axes>"
            ]
          },
          "metadata": {
            "tags": [],
            "needs_background": "light"
          }
        }
      ]
    },
    {
      "cell_type": "code",
      "metadata": {
        "id": "Nkixpz7MuNNZ",
        "colab": {
          "base_uri": "https://localhost:8080/"
        },
        "outputId": "2515f2c5-5f6e-4fb6-f8ea-fd54800510a6"
      },
      "source": [
        "#Evaluating the model on the data\n",
        "\n",
        "#train_scores = model.evaluate(train_data, train_labels)\n",
        "val_scores = model.evaluate(val_data, val_labels)\n",
        "test_scores = model.evaluate(test_data, test_labels)\n",
        "\n",
        "#print(\"Training Accuracy: %.2f%%\"%(train_scores[1] * 100))\n",
        "print(\"Validation Accuracy: %.2f%%\"%(val_scores[1] * 100))\n",
        "print(\"Testing Accuracy: %.2f%%\"%(test_scores[1] * 100))"
      ],
      "execution_count": 15,
      "outputs": [
        {
          "output_type": "stream",
          "text": [
            "42/42 [==============================] - 1s 26ms/step - loss: 0.5514 - acc: 0.8501 - auc: 0.9509 - f1_score: 0.8490\n",
            "53/53 [==============================] - 1s 25ms/step - loss: 0.4644 - acc: 0.8705 - auc: 0.9602 - f1_score: 0.8692\n",
            "Validation Accuracy: 85.01%\n",
            "Testing Accuracy: 87.05%\n"
          ],
          "name": "stdout"
        }
      ]
    },
    {
      "cell_type": "code",
      "metadata": {
        "id": "PKxqK66fuRA-"
      },
      "source": [
        "#Predicting the test data\n",
        "\n",
        "pred_labels = model.predict(test_data)"
      ],
      "execution_count": 16,
      "outputs": []
    },
    {
      "cell_type": "code",
      "metadata": {
        "id": "NINao-HezNw2",
        "colab": {
          "base_uri": "https://localhost:8080/"
        },
        "outputId": "caa90a9e-cf22-4a98-eb0e-438f5cedf4aa"
      },
      "source": [
        "#Print the classification report of the tested data\n",
        "\n",
        "#Since the labels are softmax arrays, we need to roundoff to have it in the form of 0s and 1s,\n",
        "#similar to the test_labels\n",
        "def roundoff(arr):\n",
        "    \"\"\"To round off according to the argmax of each predicted label array. \"\"\"\n",
        "    arr[np.argwhere(arr != arr.max())] = 0\n",
        "    arr[np.argwhere(arr == arr.max())] = 1\n",
        "    return arr\n",
        "\n",
        "for labels in pred_labels:\n",
        "    labels = roundoff(labels)\n",
        "\n",
        "print(classification_report(test_labels, pred_labels, target_names=CLASSES))"
      ],
      "execution_count": 17,
      "outputs": [
        {
          "output_type": "stream",
          "text": [
            "              precision    recall  f1-score   support\n",
            "\n",
            "          AD       0.88      0.95      0.91       573\n",
            "          CN       0.87      0.85      0.86       540\n",
            "         MCI       0.86      0.81      0.83       563\n",
            "\n",
            "   micro avg       0.87      0.87      0.87      1676\n",
            "   macro avg       0.87      0.87      0.87      1676\n",
            "weighted avg       0.87      0.87      0.87      1676\n",
            " samples avg       0.87      0.87      0.87      1676\n",
            "\n"
          ],
          "name": "stdout"
        }
      ]
    },
    {
      "cell_type": "code",
      "metadata": {
        "id": "Pk7p7rUpzTbR",
        "colab": {
          "base_uri": "https://localhost:8080/",
          "height": 444
        },
        "outputId": "c18e50a5-2109-4b51-f736-ee924c8c7229"
      },
      "source": [
        "#Plot the confusion matrix to understand the classification in detail\n",
        "\n",
        "pred_ls = np.argmax(pred_labels, axis=1)\n",
        "test_ls = np.argmax(test_labels, axis=1)\n",
        "\n",
        "conf_arr = confusion_matrix(test_ls, pred_ls)\n",
        "\n",
        "plt.figure(figsize=(8, 6), dpi=80, facecolor='w', edgecolor='k')\n",
        "\n",
        "ax = sns.heatmap(conf_arr, cmap='Greens', annot=True, fmt='d', xticklabels=CLASSES, yticklabels=CLASSES)\n",
        "\n",
        "plt.title('Alzheimer\\'s Disease Diagnosis')\n",
        "plt.xlabel('Prediction')\n",
        "plt.ylabel('Truth')\n",
        "plt.show(ax)"
      ],
      "execution_count": 18,
      "outputs": [
        {
          "output_type": "display_data",
          "data": {
            "image/png": "[encoded data removed]",
            "text/plain": [
              "<Figure size 640x480 with 2 Axes>"
            ]
          },
          "metadata": {
            "tags": []
          }
        }
      ]
    },
    {
      "cell_type": "code",
      "metadata": {
        "id": "Pf_UgIbgzUVI",
        "colab": {
          "base_uri": "https://localhost:8080/"
        },
        "outputId": "10c847b4-ccba-41b5-e863-b8501f7009b7"
      },
      "source": [
        "#Printing some other classification metrics\n",
        "\n",
        "print(\"Balanced Accuracy Score: {} %\".format(round(BAS(test_ls, pred_ls) * 100, 2)))\n",
        "print(\"Matthew's Correlation Coefficient: {} %\".format(round(MCC(test_ls, pred_ls) * 100, 2)))"
      ],
      "execution_count": 19,
      "outputs": [
        {
          "output_type": "stream",
          "text": [
            "Balanced Accuracy Score: 86.98 %\n",
            "Matthew's Correlation Coefficient: 80.64 %\n"
          ],
          "name": "stdout"
        }
      ]
    },
    {
      "cell_type": "code",
      "metadata": {
        "id": "hnKDrLswyVew"
      },
      "source": [
        ""
      ],
      "execution_count": null,
      "outputs": []
    }
  ]
}